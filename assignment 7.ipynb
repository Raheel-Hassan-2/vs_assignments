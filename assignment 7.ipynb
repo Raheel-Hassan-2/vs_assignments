{
 "cells": [
  {
   "cell_type": "code",
   "execution_count": 1,
   "id": "e2c87a52",
   "metadata": {},
   "outputs": [
    {
     "name": "stdout",
     "output_type": "stream",
     "text": [
      "number of chracter in the name: 13\n"
     ]
    }
   ],
   "source": [
    "# 𝗧𝗮𝗸𝗲 𝘂𝘀𝗲𝗿 𝗶𝗻𝗽𝘂𝘁 𝗳𝗼𝗿 𝘁𝗵𝗲𝗶𝗿 𝗳𝘂𝗹𝗹 𝗻𝗮𝗺𝗲. 𝗣𝗿𝗶𝗻𝘁 𝗵𝗼𝘄 𝗺𝗮𝗻𝘆 𝗰𝗵𝗮𝗿𝗮𝗰𝘁𝗲𝗿𝘀 𝗮𝗿𝗲 𝗶𝗻 𝘁𝗵𝗲 𝗻𝗮𝗺𝗲 𝘂𝘀𝗶𝗻𝗴 len().\n",
    "full_name = \"Raheel Hassan\"\n",
    "print(\"number of chracter in the name:\",len(full_name))"
   ]
  },
  {
   "cell_type": "code",
   "execution_count": 2,
   "id": "9bb1c1a5",
   "metadata": {},
   "outputs": [
    {
     "name": "stdout",
     "output_type": "stream",
     "text": [
      "Names with more than 5 characters:\n",
      "Hassan\n",
      "Fatima\n",
      "Abdullah\n"
     ]
    }
   ],
   "source": [
    "#𝗖𝗿𝗲𝗮𝘁𝗲 𝗮 𝗹𝗶𝘀𝘁 𝗼𝗳 𝟱 𝗻𝗮𝗺𝗲𝘀. 𝗣𝗿𝗶𝗻𝘁 𝗼𝗻𝗹𝘆 𝘁𝗵𝗲 𝗻𝗮𝗺𝗲𝘀 𝘁𝗵𝗮𝘁 𝗵𝗮𝘃𝗲 𝗺𝗼𝗿𝗲 𝘁𝗵𝗮𝗻 𝟱 𝗰𝗵𝗮𝗿𝗮𝗰𝘁𝗲𝗿𝘀.\n",
    "\n",
    "names = [\"Ali\", \"Hassan\", \"Fatima\", \"Zara\", \"Abdullah\"]\n",
    "print(\"Names with more than 5 characters:\")\n",
    "for name in names:\n",
    "    if len(name) > 5:\n",
    "        print(name)"
   ]
  },
  {
   "cell_type": "code",
   "execution_count": 7,
   "id": "57493b04",
   "metadata": {},
   "outputs": [
    {
     "name": "stdout",
     "output_type": "stream",
     "text": [
      "The word 'python' is NOT present in the sentence.\n"
     ]
    }
   ],
   "source": [
    "#𝗔𝘀𝗸 𝘁𝗵𝗲 𝘂𝘀𝗲𝗿 𝘁𝗼 𝗲𝗻𝘁𝗲𝗿 𝗮 𝘀𝗲𝗻𝘁𝗲𝗻𝗰𝗲. 𝗖𝗼𝗻𝘃𝗲𝗿𝘁 𝗶𝘁 𝘁𝗼 𝗹𝗼𝘄𝗲𝗿𝗰𝗮𝘀𝗲 𝗮𝗻𝗱 𝗰𝗵𝗲𝗰𝗸 𝗶𝗳 𝘁𝗵𝗲 𝘄𝗼𝗿𝗱 \"python\" 𝗶𝘀 𝗽𝗿𝗲𝘀𝗲𝗻𝘁.\n",
    "sentence=\"i love pakistan\" \n",
    "sentence_lower = sentence. lower()\n",
    "if \"python\" in sentence_lower:\n",
    "    print(\"The word 'python' is present in the sentence.\")\n",
    "else:\n",
    "    print(\"The word 'python' is NOT present in the sentence.\")"
   ]
  },
  {
   "cell_type": "code",
   "execution_count": 9,
   "id": "67e577b5",
   "metadata": {},
   "outputs": [
    {
     "name": "stdout",
     "output_type": "stream",
     "text": [
      "Numbers divisible by 3:\n",
      "9\n",
      "12\n",
      "18\n",
      "33\n"
     ]
    }
   ],
   "source": [
    "#𝗖𝗿𝗲𝗮𝘁𝗲 𝗮 𝗹𝗶𝘀𝘁 𝗼𝗳 𝗻𝘂𝗺𝗯𝗲𝗿𝘀. 𝗣𝗿𝗶𝗻𝘁 𝗼𝗻𝗹𝘆 𝘁𝗵𝗲 𝗻𝘂𝗺𝗯𝗲𝗿𝘀 𝘁𝗵𝗮𝘁 𝗮𝗿𝗲 𝗱𝗶𝘃𝗶𝘀𝗶𝗯𝗹𝗲 𝗯𝘆 𝟯\n",
    "numbers = [5, 9, 12, 7, 18, 20, 33, 41]\n",
    "print(\"Numbers divisible by 3:\")\n",
    "for num in numbers:\n",
    "    if num % 3 == 0:\n",
    "        print(num)"
   ]
  },
  {
   "cell_type": "code",
   "execution_count": 11,
   "id": "b8757f1f",
   "metadata": {},
   "outputs": [
    {
     "name": "stdout",
     "output_type": "stream",
     "text": [
      "The number is positive.\n"
     ]
    }
   ],
   "source": [
    "#𝗧𝗮𝗸𝗲 𝗮𝗻 𝗶𝗻𝗽𝘂𝘁 𝗻𝘂𝗺𝗯𝗲𝗿. 𝗨𝘀𝗲 if-elif-else 𝘁𝗼 𝗰𝗵𝗲𝗰𝗸 𝘄𝗵𝗲𝘁𝗵𝗲𝗿 𝗶𝘁'𝘀 𝗽𝗼𝘀𝗶𝘁𝗶𝘃𝗲, 𝗻𝗲𝗴𝗮𝘁𝗶𝘃𝗲, 𝗼𝗿 𝘇𝗲𝗿𝗼.\n",
    "\n",
    "number = 45\n",
    "if num > 0:\n",
    "    print(\"The number is positive.\")\n",
    "elif num < 0:\n",
    "    print(\"The number is negative.\")\n",
    "else:\n",
    "    print(\"The number is zero.\")"
   ]
  },
  {
   "cell_type": "code",
   "execution_count": 12,
   "id": "4f4b719e",
   "metadata": {},
   "outputs": [
    {
     "name": "stdout",
     "output_type": "stream",
     "text": [
      "The greater number is: 45\n"
     ]
    }
   ],
   "source": [
    "#𝗧𝗮𝗸𝗲 𝘁𝘄𝗼 𝗶𝗻𝗽𝘂𝘁 𝗻𝘂𝗺𝗯𝗲𝗿𝘀 𝗮𝗻𝗱 𝗽𝗿𝗶𝗻𝘁 𝘁𝗵𝗲𝗶𝗿 𝗚𝗥𝗘𝗔𝗧𝗘𝗥 𝗼𝗻𝗲 𝘂𝘀𝗶𝗻𝗴 if-else\n",
    "num1 = 22\n",
    "num2 = 45\n",
    "if num1 > num2:\n",
    "    print(\"The greater number is:\", num1)\n",
    "else:\n",
    "    print(\"The greater number is:\", num2)"
   ]
  },
  {
   "cell_type": "code",
   "execution_count": 13,
   "id": "2c723a5e",
   "metadata": {},
   "outputs": [
    {
     "name": "stdout",
     "output_type": "stream",
     "text": [
      "Updated list of cities:\n",
      "['Lahore', 'Karachi', 'Islamabad', 'Quetta', 'Peshawar', 'Multan']\n"
     ]
    }
   ],
   "source": [
    "# 𝗖𝗿𝗲𝗮𝘁𝗲 𝗮 𝗹𝗶𝘀𝘁 𝗼𝗳 𝗰𝗶𝘁𝗶𝗲𝘀. 𝗔𝗱𝗱 𝗮 𝗻𝗲𝘄 𝗰𝗶𝘁𝘆 𝗮𝘀 𝗶𝗻𝗽𝘂𝘁 𝗳𝗿𝗼𝗺 𝘁𝗵𝗲 𝘂𝘀𝗲𝗿 𝗮𝗻𝗱 𝗽𝗿𝗶𝗻𝘁 𝘁𝗵𝗲 𝘂𝗽𝗱𝗮𝘁𝗲𝗱 𝗹𝗶𝘀𝘁.\n",
    "\n",
    "cities = [\"Lahore\", \"Karachi\", \"Islamabad\", \"Quetta\", \"Peshawar\"]\n",
    "new_city = \"Multan\"\n",
    "cities.append(new_city)\n",
    "print(\"Updated list of cities:\")\n",
    "print(cities)\n"
   ]
  },
  {
   "cell_type": "code",
   "execution_count": 14,
   "id": "c933f298",
   "metadata": {},
   "outputs": [
    {
     "name": "stdout",
     "output_type": "stream",
     "text": [
      "Words in reverse order:\n",
      "elderberry\n",
      "date\n",
      "cherry\n",
      "banana\n",
      "apple\n"
     ]
    }
   ],
   "source": [
    "#𝗖𝗿𝗲𝗮𝘁𝗲 𝗮 𝗹𝗶𝘀𝘁 𝗼𝗳 𝟱 𝘄𝗼𝗿𝗱𝘀. 𝗣𝗿𝗶𝗻𝘁 𝗲𝗮𝗰𝗵 𝘄𝗼𝗿𝗱 𝗼𝗻 𝗮 𝗻𝗲𝘄 𝗹𝗶𝗻𝗲 𝗶𝗻 𝗿𝗲𝘃𝗲𝗿𝘀𝗲 𝗼𝗿𝗱𝗲𝗿.\n",
    "\n",
    "words = [\"apple\", \"banana\", \"cherry\", \"date\", \"elderberry\"]\n",
    "print(\"Words in reverse order:\")\n",
    "for word in reversed(words):\n",
    "    print(word)"
   ]
  },
  {
   "cell_type": "code",
   "execution_count": 19,
   "id": "35078ea1",
   "metadata": {},
   "outputs": [
    {
     "name": "stdout",
     "output_type": "stream",
     "text": [
      "Total Marks: 135\n",
      "Average Marks: 45.0\n",
      "Grade: Fail\n"
     ]
    }
   ],
   "source": [
    "#𝗧𝗮𝗸𝗲 𝘂𝘀𝗲𝗿 𝗶𝗻𝗽𝘂𝘁 𝗼𝗳 𝘁𝗵𝗿𝗲𝗲 𝗺𝗮𝗿𝗸𝘀. 𝗖𝗮𝗹𝗰𝘂𝗹𝗮𝘁𝗲 𝘁𝗼𝘁𝗮𝗹, 𝗮𝘃𝗲𝗿𝗮𝗴𝗲, 𝗮𝗻𝗱 𝗴𝗿𝗮𝗱𝗲 (𝗔/𝗕/𝗖/𝗙𝗮𝗶𝗹).\n",
    "\n",
    "mark1= 34\n",
    "mark2= 45\n",
    "mark3= 56\n",
    "total= mark1+ mark2 + mark3\n",
    "average = total / 3\n",
    "if average >= 80:\n",
    "    grade = \"A\"\n",
    "elif average >= 70:\n",
    "    grade = \"B\"\n",
    "elif average >= 60:\n",
    "    grade = \"C\"\n",
    "else:\n",
    "    grade = \"Fail\"\n",
    "    print(\"Total Marks:\", total)\n",
    "print(\"Average Marks:\", average)\n",
    "print(\"Grade:\", grade)"
   ]
  },
  {
   "cell_type": "code",
   "execution_count": 20,
   "id": "bec1adb3",
   "metadata": {},
   "outputs": [
    {
     "name": "stdout",
     "output_type": "stream",
     "text": [
      "Found\n"
     ]
    }
   ],
   "source": [
    "#𝗖𝗿𝗲𝗮𝘁𝗲 𝗮 𝗹𝗶𝘀𝘁 𝗼𝗳 𝗳𝗿𝘂𝗶𝘁𝘀. 𝗖𝗵𝗲𝗰𝗸 𝗶𝗳 \"apple\" 𝗶𝘀 𝗶𝗻 𝘁𝗵𝗲 𝗹𝗶𝘀𝘁. 𝗣𝗿𝗶𝗻𝘁 \"𝗙𝗼𝘂𝗻𝗱\" 𝗼𝗿 \"𝗡𝗼𝘁 𝗙𝗼𝘂𝗻𝗱\".\n",
    "fruits = [\"banana\", \"mango\", \"orange\", \"apple\", \"grape\"]\n",
    "if \"apple\" in fruits:\n",
    "    print(\"Found\")\n",
    "else:\n",
    "    print(\"Not Found\")"
   ]
  }
 ],
 "metadata": {
  "kernelspec": {
   "display_name": "Python 3",
   "language": "python",
   "name": "python3"
  },
  "language_info": {
   "codemirror_mode": {
    "name": "ipython",
    "version": 3
   },
   "file_extension": ".py",
   "mimetype": "text/x-python",
   "name": "python",
   "nbconvert_exporter": "python",
   "pygments_lexer": "ipython3",
   "version": "3.13.5"
  }
 },
 "nbformat": 4,
 "nbformat_minor": 5
}
