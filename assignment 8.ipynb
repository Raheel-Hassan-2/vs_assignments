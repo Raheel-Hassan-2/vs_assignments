{
 "cells": [
  {
   "cell_type": "code",
   "execution_count": 1,
   "id": "e5850033",
   "metadata": {},
   "outputs": [
    {
     "name": "stdout",
     "output_type": "stream",
     "text": [
      "Sum of numbers: 7.3\n"
     ]
    }
   ],
   "source": [
    "# 𝗖𝗿𝗲𝗮𝘁𝗲 𝗮 𝗹𝗶𝘀𝘁 𝗼𝗳 𝟯 𝗳𝗹𝗼𝗮𝘁 𝗻𝘂𝗺𝗯𝗲𝗿𝘀 𝗮𝘀 𝘀𝘁𝗿𝗶𝗻𝗴𝘀 (𝗲.𝗴. [\"𝟭.𝟱\", \"𝟮.𝟴\", \"𝟯.𝟬\"]). 𝗖𝗼𝗻𝘃𝗲𝗿𝘁 𝗲𝗮𝗰𝗵 𝘁𝗼 float 𝗮𝗻𝗱 𝗽𝗿𝗶𝗻𝘁 𝘁𝗵𝗲 𝘀𝘂𝗺\n",
    "float_strings = [\"1.5\", \"2.8\", \"3.0\"]\n",
    "total = 0\n",
    "for num in float_strings:\n",
    "    total += float(num)\n",
    "\n",
    "# Print the sum\n",
    "print(\"Sum of numbers:\", total)"
   ]
  },
  {
   "cell_type": "code",
   "execution_count": 3,
   "id": "c96a2369",
   "metadata": {},
   "outputs": [
    {
     "name": "stdout",
     "output_type": "stream",
     "text": [
      "The number is positive.\n"
     ]
    }
   ],
   "source": [
    "#𝗧𝗮𝗸𝗲 𝘂𝘀𝗲𝗿 𝗶𝗻𝗽𝘂𝘁 𝗳𝗼𝗿 𝗮 𝗻𝘂𝗺𝗯𝗲𝗿. 𝗖𝗵𝗲𝗰𝗸 𝘄𝗵𝗲𝘁𝗵𝗲𝗿 𝗶𝘁 𝗶𝘀 𝗽𝗼𝘀𝗶𝘁𝗶𝘃𝗲, 𝗻𝗲𝗴𝗮𝘁𝗶𝘃𝗲, 𝗼𝗿 𝘇𝗲𝗿𝗼 𝘂𝘀𝗶𝗻𝗴 if-elif-else.\n",
    "num = 33\n",
    "if num > 0:\n",
    "    print(\"The number is positive.\")\n",
    "elif num < 0:\n",
    "    print(\"The number is negative.\")\n",
    "else:\n",
    "    print(\"The number is zero.\")"
   ]
  },
  {
   "cell_type": "code",
   "execution_count": 4,
   "id": "5e58de65",
   "metadata": {},
   "outputs": [
    {
     "name": "stdout",
     "output_type": "stream",
     "text": [
      "Result: 67\n",
      "Type of result: <class 'int'>\n"
     ]
    }
   ],
   "source": [
    "#𝗧𝗮𝗸𝗲 𝘁𝘄𝗼 𝘀𝘁𝗿𝗶𝗻𝗴 𝗻𝘂𝗺𝗯𝗲𝗿𝘀 𝗮𝘀 𝗶𝗻𝗽𝘂𝘁 𝗳𝗿𝗼𝗺 𝘁𝗵𝗲 𝘂𝘀𝗲𝗿. 𝗖𝗼𝗻𝘃𝗲𝗿𝘁 𝘁𝗼 int, 𝗮𝗱𝗱 𝘁𝗵𝗲𝗺, 𝗮𝗻𝗱 𝗽𝗿𝗶𝗻𝘁 𝘁𝗵𝗲 𝗿𝗲𝘀𝘂𝗹𝘁 𝘄𝗶𝘁𝗵 𝘁𝘆𝗽𝗲.\n",
    "num1= 22\n",
    "num2=45\n",
    "num1_int = int(num1)\n",
    "num2_int = int(num2)\n",
    "result = num1_int + num2_int\n",
    "print(\"Result:\", result)\n",
    "print(\"Type of result:\", type(result))"
   ]
  },
  {
   "cell_type": "code",
   "execution_count": 5,
   "id": "29eedf1e",
   "metadata": {},
   "outputs": [
    {
     "name": "stdout",
     "output_type": "stream",
     "text": [
      "Updated list: [5, 8, 10.5, True]\n"
     ]
    }
   ],
   "source": [
    "#𝗗𝗲𝗳𝗶𝗻𝗲 𝗮 𝗹𝗶𝘀𝘁 𝗼𝗳 𝗺𝗶𝘅𝗲𝗱 𝘁𝘆𝗽𝗲𝘀 (𝗲.𝗴. [\"𝟱\", 𝟴, 𝟭𝟬.𝟱, 𝗧𝗿𝘂𝗲]). 𝗨𝘀𝗲 𝗮 𝗹𝗼𝗼𝗽 𝘁𝗼 𝗰𝗼𝗻𝘃𝗲𝗿𝘁 𝘀𝘁𝗿𝗶𝗻𝗴𝘀 𝗶𝗻𝘁𝗼 𝗶𝗻𝘁𝗲𝗴𝗲𝗿𝘀.\n",
    "mixed_list = [\"5\", 8, 10.5, True]\n",
    "for i in range(len(mixed_list)):\n",
    "    if isinstance(mixed_list[i], str):\n",
    "        mixed_list[i] = int(mixed_list[i])\n",
    "print(\"Updated list:\", mixed_list)"
   ]
  },
  {
   "cell_type": "code",
   "execution_count": 6,
   "id": "a6cab7b8",
   "metadata": {},
   "outputs": [
    {
     "name": "stdout",
     "output_type": "stream",
     "text": [
      "Total Marks: 167\n",
      "Percentage: 55.67 %\n"
     ]
    }
   ],
   "source": [
    "#𝗧𝗮𝗸𝗲 𝘂𝘀𝗲𝗿 𝗶𝗻𝗽𝘂𝘁 𝗳𝗼𝗿 𝟯 𝗺𝗮𝗿𝗸𝘀 (𝗮𝘀 𝘀𝘁𝗿𝗶𝗻𝗴𝘀), 𝗰𝗼𝗻𝘃𝗲𝗿𝘁 𝘁𝗼 int, 𝗮𝗻𝗱 𝗽𝗿𝗶𝗻𝘁 𝘁𝗵𝗲 𝘁𝗼𝘁𝗮𝗹 𝗮𝗻𝗱 𝗽𝗲𝗿𝗰𝗲𝗻𝘁𝗮𝗴𝗲\n",
    "mark1 =45\n",
    "mark2=67\n",
    "mark3=55\n",
    "mark1 = int(mark1)\n",
    "mark2 = int(mark2)\n",
    "mark3 = int(mark3)\n",
    "total = mark1 + mark2 + mark3\n",
    "percentage = (total / 300) * 100\n",
    "print(\"Total Marks:\", total)\n",
    "print(\"Percentage:\", round(percentage, 2), \"%\")"
   ]
  },
  {
   "cell_type": "code",
   "execution_count": 7,
   "id": "c22af27d",
   "metadata": {},
   "outputs": [
    {
     "name": "stdout",
     "output_type": "stream",
     "text": [
      "Result is greater than 5: 8.4\n"
     ]
    }
   ],
   "source": [
    "#𝗖𝗿𝗲𝗮𝘁𝗲 𝗮 𝘀𝘁𝗿𝗶𝗻𝗴 𝘃𝗮𝗿𝗶𝗮𝗯𝗹𝗲 𝗼𝗳 𝗮 𝗳𝗹𝗼𝗮𝘁 𝘃𝗮𝗹𝘂𝗲 (𝗲.𝗴. \"𝟰.𝟮\"). 𝗖𝗼𝗻𝘃𝗲𝗿𝘁 𝘁𝗼 float, 𝗺𝘂𝗹𝘁𝗶𝗽𝗹𝘆 𝗯𝘆 𝟮, 𝗮𝗻𝗱 𝗰𝗵𝗲𝗰𝗸 𝗶𝗳 𝗿𝗲𝘀𝘂𝗹𝘁 > 𝟱.\n",
    "\n",
    "float_str = \"4.2\"\n",
    "result = float(float_str) * 2\n",
    "if result > 5:\n",
    "    print(\"Result is greater than 5:\", result)\n",
    "else:\n",
    "    print(\"Result is not greater than 5:\", result)"
   ]
  },
  {
   "cell_type": "code",
   "execution_count": 8,
   "id": "95d2fbc5",
   "metadata": {},
   "outputs": [
    {
     "name": "stdout",
     "output_type": "stream",
     "text": [
      "45 - Fail\n",
      "67 - Pass\n",
      "89 - Pass\n",
      "32 - Fail\n"
     ]
    }
   ],
   "source": [
    "#𝗖𝗿𝗲𝗮𝘁𝗲 𝗮 𝗹𝗶𝘀𝘁 𝗼𝗳 𝟰 𝗺𝗮𝗿𝗸𝘀 (𝗮𝘀 𝘀𝘁𝗿𝗶𝗻𝗴𝘀). 𝗨𝘀𝗲 for 𝗹𝗼𝗼𝗽 𝘁𝗼 𝗰𝗼𝗻𝘃𝗲𝗿𝘁 𝗮𝗻𝗱 𝗰𝗵𝗲𝗰𝗸 𝗳𝗼𝗿 𝗽𝗮𝘀𝘀 𝗼𝗿 𝗳𝗮𝗶𝗹 (𝗺𝗮𝗿𝗸 >= 𝟱𝟬).\n",
    "marks = [\"45\", \"67\", \"89\", \"32\"]\n",
    "for mark in marks:\n",
    "    mark_int = int(mark)\n",
    "    if mark_int >= 50:\n",
    "        print(mark_int, \"- Pass\")\n",
    "    else:\n",
    "        print(mark_int, \"- Fail\")"
   ]
  },
  {
   "cell_type": "code",
   "execution_count": 9,
   "id": "b56bbdde",
   "metadata": {},
   "outputs": [
    {
     "name": "stdout",
     "output_type": "stream",
     "text": [
      "Valid email\n"
     ]
    }
   ],
   "source": [
    "#𝗧𝗮𝗸𝗲 𝘂𝘀𝗲𝗿 𝗶𝗻𝗽𝘂𝘁 𝗼𝗳 𝗲𝗺𝗮𝗶𝗹 𝗮𝗻𝗱 𝗰𝗵𝗲𝗰𝗸 𝗶𝗳 𝗶𝘁 𝗰𝗼𝗻𝘁𝗮𝗶𝗻𝘀 \"@\" 𝘂𝘀𝗶𝗻𝗴 in. 𝗣𝗿𝗶𝗻𝘁 𝘃𝗮𝗹𝗶𝗱 𝗼𝗿 𝗶𝗻𝘃𝗮𝗹𝗶𝗱.\n",
    "email = \"its gmail@b .com\"\n",
    "if \"@\" in email:\n",
    "    print(\"Valid email\")\n",
    "else:\n",
    "    print(\"Invalid email\")"
   ]
  },
  {
   "cell_type": "code",
   "execution_count": 10,
   "id": "f0445893",
   "metadata": {},
   "outputs": [
    {
     "name": "stdout",
     "output_type": "stream",
     "text": [
      "The word 'the' appears 0 times.\n"
     ]
    }
   ],
   "source": [
    "#𝗧𝗮𝗸𝗲 𝘂𝘀𝗲𝗿 𝗶𝗻𝗽𝘂𝘁 𝗼𝗳 𝗮 𝘀𝗲𝗻𝘁𝗲𝗻𝗰𝗲. 𝗖𝗼𝘂𝗻𝘁 𝗵𝗼𝘄 𝗺𝗮𝗻𝘆 𝘁𝗶𝗺𝗲𝘀 𝘁𝗵𝗲 𝘄𝗼𝗿𝗱 \"the\" 𝗮𝗽𝗽𝗲𝗮𝗿𝘀.\n",
    "\n",
    "sentence= \"atif is my best friend\"\n",
    "words = sentence.lower().split()\n",
    "count_the = words.count(\"the\")\n",
    "print(\"The word 'the' appears\", count_the, \"times.\")"
   ]
  },
  {
   "cell_type": "code",
   "execution_count": 11,
   "id": "cb55fc80",
   "metadata": {},
   "outputs": [],
   "source": [
    "#𝗠𝗮𝗸𝗲 𝗮 𝗹𝗶𝘀𝘁 𝗼𝗳 𝗻𝘂𝗺𝗯𝗲𝗿𝘀 𝗳𝗿𝗼𝗺 𝟭 𝘁𝗼 𝟭𝟬 (𝗮𝘀 𝘀𝘁𝗿𝗶𝗻𝗴𝘀). 𝗖𝗼𝗻𝘃𝗲𝗿𝘁 𝘁𝗼 int, 𝗳𝗶𝗹𝘁𝗲𝗿 𝗼𝗻𝗹𝘆 𝗲𝘃𝗲𝗻 𝗻𝘂𝗺𝗯𝗲𝗿𝘀, 𝗮𝗻𝗱 𝗽𝗿𝗶𝗻𝘁 𝘁𝗵𝗲𝗺.\n",
    "num_strings = [\"1\", \"2\", \"3\", \"4\", \"5\", \"6\", \"7\", \"8\", \"9\", \"10\"]\n",
    "even_numbers = []\n",
    "for num in num_strings:\n",
    "    number = int(num)\n",
    "    if number % 2 == 0:\n",
    "        even_numbers.append(number)\n"
   ]
  },
  {
   "cell_type": "markdown",
   "id": "f4d191c1",
   "metadata": {},
   "source": [
    "ASSIGNMENT  \"9\" "
   ]
  },
  {
   "cell_type": "code",
   "execution_count": 12,
   "id": "153abaca",
   "metadata": {},
   "outputs": [
    {
     "name": "stdout",
     "output_type": "stream",
     "text": [
      "Pass\n"
     ]
    }
   ],
   "source": [
    "#𝗧𝗮𝗸𝗲 𝘂𝘀𝗲𝗿 𝗶𝗻𝗽𝘂𝘁 𝗳𝗼𝗿 𝗺𝗮𝗿𝗸𝘀 (𝗮𝘀 𝘀𝘁𝗿𝗶𝗻𝗴), 𝗰𝗼𝗻𝘃𝗲𝗿𝘁 𝘁𝗼 int, 𝗮𝗻𝗱 𝗽𝗿𝗶𝗻𝘁 \"𝗣𝗮𝘀𝘀\" 𝗶𝗳 𝗺𝗮𝗿𝗸𝘀 ≥ 𝟰𝟬, 𝗲𝗹𝘀𝗲 \"𝗙𝗮𝗶𝗹\"\n",
    "marks=44\n",
    "marks = int(marks)\n",
    "if marks >= 40:\n",
    "    print(\"Pass\")\n",
    "else:\n",
    "    print(\"Fail\")"
   ]
  },
  {
   "cell_type": "code",
   "execution_count": 13,
   "id": "c9fe3b88",
   "metadata": {},
   "outputs": [
    {
     "name": "stdout",
     "output_type": "stream",
     "text": [
      "Ages 18 or older:\n",
      "22\n",
      "18\n",
      "30\n"
     ]
    }
   ],
   "source": [
    "#𝗖𝗿𝗲𝗮𝘁𝗲 𝗮 𝗹𝗶𝘀𝘁 𝗼𝗳 𝗮𝗴𝗲𝘀 (𝗮𝘀 𝘀𝘁𝗿𝗶𝗻𝗴𝘀), 𝗰𝗼𝗻𝘃𝗲𝗿𝘁 𝘁𝗼 int, 𝗮𝗻𝗱 𝗽𝗿𝗶𝗻𝘁 𝗼𝗻𝗹𝘆 𝗮𝗴𝗲𝘀 𝘁𝗵𝗮𝘁 𝗮𝗿𝗲 𝟭𝟴+ 𝗶𝗻 𝗮 𝗹𝗼𝗼𝗽\n",
    "age_strings = [\"15\", \"22\", \"17\", \"18\", \"30\", \"12\"]\n",
    "print(\"Ages 18 or older:\")\n",
    "for age in age_strings:\n",
    "    age_int = int(age)\n",
    "    if age_int >= 18:\n",
    "        print(age_int)"
   ]
  },
  {
   "cell_type": "code",
   "execution_count": 14,
   "id": "7679664a",
   "metadata": {},
   "outputs": [
    {
     "name": "stdout",
     "output_type": "stream",
     "text": [
      "The number is divisible by 7.\n"
     ]
    }
   ],
   "source": [
    "# 𝗔𝘀𝗸 𝘁𝗵𝗲 𝘂𝘀𝗲𝗿 𝘁𝗼 𝗲𝗻𝘁𝗲𝗿 𝗮 𝗻𝘂𝗺𝗯𝗲𝗿. 𝗖𝗵𝗲𝗰𝗸 𝗶𝗳 𝗶𝘁'𝘀 𝗱𝗶𝘃𝗶𝘀𝗶𝗯𝗹𝗲 𝗯𝘆 𝟱 𝗼𝗿 𝟳, 𝗼𝗿 𝗯𝗼𝘁𝗵, 𝗮𝗻𝗱 𝗽𝗿𝗶𝗻𝘁 𝗮 𝗺𝗲𝘀𝘀𝗮𝗴𝗲\n",
    "num = int(input(\"Enter a number: \"))\n",
    "if num % 5 == 0 and num % 7 == 0:\n",
    "    print(\"The number is divisible by both 5 and 7.\")\n",
    "elif num % 5 == 0:\n",
    "    print(\"The number is divisible by 5.\")\n",
    "elif num % 7 == 0:\n",
    "    print(\"The number is divisible by 7.\")\n",
    "else:\n",
    "    print(\"The number is not divisible by 5 or 7.\")"
   ]
  },
  {
   "cell_type": "code",
   "execution_count": 15,
   "id": "7755632a",
   "metadata": {},
   "outputs": [
    {
     "name": "stdout",
     "output_type": "stream",
     "text": [
      "Numbers divisible by 6:\n",
      "6\n",
      "12\n"
     ]
    }
   ],
   "source": [
    "#𝗖𝗿𝗲𝗮𝘁𝗲 𝗮 𝗹𝗶𝘀𝘁 [\"3\", \"6\", \"9\", \"12\"], 𝗰𝗮𝘀𝘁 𝘁𝗼 int, 𝗽𝗿𝗶𝗻𝘁 𝗼𝗻𝗹𝘆 𝗲𝗹𝗲𝗺𝗲𝗻𝘁𝘀 𝗱𝗶𝘃𝗶𝘀𝗶𝗯𝗹𝗲 𝗯𝘆 𝟲.\n",
    "\n",
    "num_list = [\"3\", \"6\", \"9\", \"12\"]\n",
    "print(\"Numbers divisible by 6:\")\n",
    "for num in num_list:\n",
    "    n = int(num)\n",
    "    if n % 6 == 0:\n",
    "        print(n)"
   ]
  },
  {
   "cell_type": "code",
   "execution_count": 18,
   "id": "0ae5f42a",
   "metadata": {},
   "outputs": [
    {
     "name": "stdout",
     "output_type": "stream",
     "text": [
      "Hello raheel, you are an adult!\n"
     ]
    }
   ],
   "source": [
    "#𝗧𝗮𝗸𝗲 𝗻𝗮𝗺𝗲 𝗮𝗻𝗱 𝗮𝗴𝗲 𝗮𝘀 𝗶𝗻𝗽𝘂𝘁. 𝗖𝗼𝗻𝘃𝗲𝗿𝘁 𝗮𝗴𝗲 𝘁𝗼 int, 𝗮𝗻𝗱 𝗽𝗿𝗶𝗻𝘁 𝗮 𝗰𝘂𝘀𝘁𝗼𝗺 𝗴𝗿𝗲𝗲𝘁𝗶𝗻𝗴 𝗳𝗼𝗿 𝗮𝗱𝘂𝗹𝘁𝘀 𝗼𝗿 𝗸𝗶𝗱𝘀\n",
    "name=\"raheel\"\n",
    "age=32\n",
    "age = int(age)\n",
    "if age >= 18:\n",
    "    print(f\"Hello {name}, you are an adult!\")\n",
    "else:\n",
    "    print(f\"Hey {name}, you are still a kid!\")"
   ]
  },
  {
   "cell_type": "code",
   "execution_count": 19,
   "id": "68f1ce42",
   "metadata": {},
   "outputs": [
    {
     "name": "stdout",
     "output_type": "stream",
     "text": [
      "Highest number: 89\n",
      "Lowest number: 7\n"
     ]
    }
   ],
   "source": [
    "#𝗗𝗲𝗳𝗶𝗻𝗲 𝗮 𝗹𝗶𝘀𝘁 𝗼𝗳 𝟱 𝗻𝘂𝗺𝗯𝗲𝗿𝘀. 𝗣𝗿𝗶𝗻𝘁 𝘁𝗵𝗲 𝗵𝗶𝗴𝗵𝗲𝘀𝘁 𝗮𝗻𝗱 𝗹𝗼𝘄𝗲𝘀𝘁 𝘂𝘀𝗶𝗻𝗴 max() 𝗮𝗻𝗱 min().\n",
    "numbers = [12, 45, 7, 89, 23]\n",
    "print(\"Highest number:\", max(numbers))\n",
    "print(\"Lowest number:\", min(numbers))"
   ]
  },
  {
   "cell_type": "code",
   "execution_count": 27,
   "id": "d5e5ae59",
   "metadata": {},
   "outputs": [
    {
     "name": "stdout",
     "output_type": "stream",
     "text": [
      "Sum of all digits: 1\n",
      "Sum of all digits: 1\n",
      "Sum of all digits: 1\n",
      "Sum of all digits: 3\n",
      "Sum of all digits: 3\n",
      "Sum of all digits: 3\n",
      "Sum of all digits: 6\n",
      "Sum of all digits: 6\n",
      "Sum of all digits: 6\n"
     ]
    }
   ],
   "source": [
    "#𝗧𝗮𝗸𝗲 𝗶𝗻𝗽𝘂𝘁 𝗼𝗳 𝗮 𝘀𝘁𝗿𝗶𝗻𝗴 𝗰𝗼𝗻𝘁𝗮𝗶𝗻𝗶𝗻𝗴 𝗻𝘂𝗺𝗯𝗲𝗿𝘀 𝗹𝗶𝗸𝗲 \"𝟭𝟬𝟬𝟮𝟬𝟬𝟯𝟬𝟬\". 𝗘𝘅𝘁𝗿𝗮𝗰𝘁 𝗮𝗻𝗱 𝘀𝘂𝗺 𝗮𝗹𝗹 𝗱𝗶𝗴𝗶𝘁𝘀.\n",
    "\n",
    "number_string = \"100200300\"\n",
    "total = 0\n",
    "for char in number_string:\n",
    "    total += int(char)\n",
    "    print(\"Sum of all digits:\", total)"
   ]
  },
  {
   "cell_type": "code",
   "execution_count": 28,
   "id": "d57bb328",
   "metadata": {},
   "outputs": [
    {
     "name": "stdout",
     "output_type": "stream",
     "text": [
      "Password is valid.\n"
     ]
    }
   ],
   "source": [
    "#𝗔𝘀𝗸 𝘁𝗵𝗲 𝘂𝘀𝗲𝗿 𝘁𝗼 𝗲𝗻𝘁𝗲𝗿 𝗮 𝗽𝗮𝘀𝘀𝘄𝗼𝗿𝗱. 𝗖𝗵𝗲𝗰𝗸 𝗶𝗳 𝗶𝘁 𝗰𝗼𝗻𝘁𝗮𝗶𝗻𝘀 𝗮𝘁 𝗹𝗲𝗮𝘀𝘁 𝟴 𝗰𝗵𝗮𝗿𝗮𝗰𝘁𝗲𝗿𝘀 𝗮𝗻𝗱 𝗽𝗿𝗶𝗻𝘁 𝘃𝗮𝗹𝗶𝗱𝗶𝘁𝘆.\n",
    "password= \"yes it is on\"\n",
    "if len(password) >= 8:\n",
    "    print(\"Password is valid.\")\n",
    "else:\n",
    "    print(\"Password is invalid. It must be at least 8 characters long.\")"
   ]
  },
  {
   "cell_type": "code",
   "execution_count": 29,
   "id": "a1f818a5",
   "metadata": {},
   "outputs": [
    {
     "name": "stdout",
     "output_type": "stream",
     "text": [
      "Number of integers in the list: 1\n",
      "Number of integers in the list: 2\n",
      "Number of integers in the list: 3\n"
     ]
    }
   ],
   "source": [
    "#𝗖𝗿𝗲𝗮𝘁𝗲 𝗮 𝗹𝗶𝘀𝘁 𝗼𝗳 𝗺𝗶𝘅𝗲𝗱 𝘁𝘆𝗽𝗲𝘀. 𝗟𝗼𝗼𝗽 𝗮𝗻𝗱 𝗰𝗼𝘂𝗻𝘁 𝗵𝗼𝘄 𝗺𝗮𝗻𝘆 𝗮𝗿𝗲 𝗶𝗻𝘁𝗲𝗴𝗲𝗿𝘀.\n",
    "mixed_list = [10, \"hello\", 3.14, True, 25, \"7\", False, 8]\n",
    "int_count = 0\n",
    "for item in mixed_list:\n",
    "    if isinstance(item, int) and not isinstance(item, bool):  # Exclude booleans\n",
    "        int_count += 1\n",
    "        print(\"Number of integers in the list:\", int_count)\n"
   ]
  },
  {
   "cell_type": "code",
   "execution_count": 30,
   "id": "4cee155a",
   "metadata": {},
   "outputs": [
    {
     "name": "stdout",
     "output_type": "stream",
     "text": [
      "Total number of number of python keywords:, 35\n"
     ]
    }
   ],
   "source": [
    "#𝗨𝘀𝗲 import keyword 𝗮𝗻𝗱 𝗽𝗿𝗶𝗻𝘁 𝘁𝗵𝗲 𝘁𝗼𝘁𝗮𝗹 𝗻𝘂𝗺𝗯𝗲𝗿 𝗼𝗳 𝗣𝘆𝘁𝗵𝗼𝗻 𝗸𝗲𝘆𝘄𝗼𝗿𝗱𝘀 𝘂𝘀𝗶𝗻𝗴 len(keyword.kwlist).\n",
    "import keyword\n",
    "print(\"Total number of number of python keywords:,\", len(keyword .kwlist))"
   ]
  },
  {
   "cell_type": "markdown",
   "id": "4daa0d38",
   "metadata": {},
   "source": [
    "ASSIGNMENT \"10\""
   ]
  },
  {
   "cell_type": "code",
   "execution_count": 31,
   "id": "ae24cac6",
   "metadata": {},
   "outputs": [
    {
     "name": "stdout",
     "output_type": "stream",
     "text": [
      "Value: 25 | Type: <class 'int'> | Label: Not greater than 30\n",
      "Value: 35 | Type: <class 'int'> | Label: Greater than 30\n",
      "Value: 50 | Type: <class 'int'> | Label: Greater than 30\n"
     ]
    }
   ],
   "source": [
    "#𝗖𝗿𝗲𝗮𝘁𝗲 𝗮 𝗹𝗶𝘀𝘁 [\"𝟭𝟱\", \"𝟮𝟱\", \"𝟰𝟬\"]. 𝗖𝗼𝗻𝘃𝗲𝗿𝘁 𝗲𝗮𝗰𝗵 𝘁𝗼 int, 𝗮𝗱𝗱 𝟭𝟬, 𝘀𝘁𝗼𝗿𝗲 𝗶𝗻 𝗮 𝗻𝗲𝘄 tuple. 𝗣𝗿𝗶𝗻𝘁 𝗲𝗮𝗰𝗵 𝗲𝗹𝗲𝗺𝗲𝗻𝘁 𝗮𝗻𝗱 𝘁𝘆𝗽𝗲, 𝗮𝗻𝗱 𝗹𝗮𝗯𝗲𝗹 𝘃𝗮𝗹𝘂𝗲𝘀 > 𝟯𝟬 𝘂𝘀𝗶𝗻𝗴 if-else.\n",
    "\n",
    "num_list = [\"15\", \"25\", \"40\"]\n",
    "updated_tuple = tuple(int(num) + 10 for num in num_list)\n",
    "for value in updated_tuple:\n",
    "    print(\"Value:\", value, \"| Type:\", type(value), end=\" | \")\n",
    "    if value > 30:\n",
    "        print(\"Label: Greater than 30\")\n",
    "    else:\n",
    "        print(\"Label: Not greater than 30\")"
   ]
  },
  {
   "cell_type": "code",
   "execution_count": 32,
   "id": "59b86612",
   "metadata": {},
   "outputs": [
    {
     "name": "stdout",
     "output_type": "stream",
     "text": [
      "name,you are eligible to vote\n"
     ]
    }
   ],
   "source": [
    "#𝗧𝗮𝗸𝗲 𝘂𝘀𝗲𝗿 𝗶𝗻𝗽𝘂𝘁 𝗳𝗼𝗿 𝗻𝗮𝗺𝗲, 𝗮𝗴𝗲 (𝗮𝘀 𝘀𝘁𝗿𝗶𝗻𝗴), 𝗮𝗻𝗱 𝗰𝗶𝘁𝘆. 𝗖𝗼𝗻𝘃𝗲𝗿𝘁 𝗮𝗴𝗲 𝘁𝗼 int, 𝗮𝗱𝗱 𝗶𝗻𝘁𝗼 𝗱𝗶𝗰𝘁 & tuple, 𝗰𝗵𝗲𝗰𝗸 𝗲𝗹𝗶𝗴𝗶𝗯𝗶𝗹𝗶𝘁𝘆 𝗳𝗼𝗿 𝘃𝗼𝘁𝗶𝗻𝗴.\n",
    "name= \"raheel\"\n",
    "age==23\n",
    "age=int(age)\n",
    "city=\"daska\"\n",
    "user_input = {\"name\", \"age\", \"city\"}\n",
    "if age >= 18:\n",
    "    print(f\"{\"name\"},you are eligible to vote\")"
   ]
  },
  {
   "cell_type": "code",
   "execution_count": 33,
   "id": "eb99e027",
   "metadata": {},
   "outputs": [
    {
     "name": "stdout",
     "output_type": "stream",
     "text": [
      "Mark: 55 | Status: Pass | Type of mark: <class 'int'> | Type of status: <class 'str'>\n",
      "Mark: 45 | Status: Fail | Type of mark: <class 'int'> | Type of status: <class 'str'>\n",
      "Mark: 85 | Status: Pass | Type of mark: <class 'int'> | Type of status: <class 'str'>\n",
      "Mark: 35 | Status: Fail | Type of mark: <class 'int'> | Type of status: <class 'str'>\n"
     ]
    }
   ],
   "source": [
    "#𝗖𝗿𝗲𝗮𝘁𝗲 𝗮 𝗹𝗶𝘀𝘁 [\"𝟱𝟱\", \"𝟰𝟱\", \"𝟴𝟱\", \"𝟯𝟱\"]. 𝗖𝗼𝗻𝘃𝗲𝗿𝘁 𝘁𝗼 int, 𝗰𝗹𝗮𝘀𝘀𝗶𝗳𝘆 𝗮𝘀 \"𝗣𝗮𝘀𝘀\"/\"𝗙𝗮𝗶𝗹\" 𝘂𝘀𝗶𝗻𝗴 if-else, 𝘀𝘁𝗼𝗿𝗲 𝗶𝗻 𝗱𝗶𝗰𝘁, 𝗽𝗿𝗶𝗻𝘁 𝗲𝗮𝗰𝗵 𝘄𝗶𝘁𝗵 type().\n",
    "\n",
    "marks_list = [\"55\", \"45\", \"85\", \"35\"]\n",
    "result_dict = {}\n",
    "for mark_str in marks_list:\n",
    "    mark = int(mark_str)\n",
    "    if mark >= 50:\n",
    "        result = \"Pass\"\n",
    "    else:\n",
    "        result = \"Fail\"\n",
    "    result_dict[mark] = result\n",
    "for mark, status in result_dict.items():\n",
    "    print(\"Mark:\", mark, \"| Status:\", status, \"| Type of mark:\", type(mark), \"| Type of status:\", type(status))\n",
    "              "
   ]
  },
  {
   "cell_type": "code",
   "execution_count": 34,
   "id": "6de4624c",
   "metadata": {},
   "outputs": [
    {
     "name": "stdout",
     "output_type": "stream",
     "text": [
      "Name: Farah\n",
      "Age: 20\n",
      "Score: 93.5\n"
     ]
    }
   ],
   "source": [
    "#𝗗𝗲𝗳𝗶𝗻𝗲 𝗮 tuple (\"𝗙𝗮𝗿𝗮𝗵\", \"𝟮𝟬\", \"𝟴𝟴.𝟱\"). 𝗖𝗮𝘀𝘁 𝗮𝗴𝗲 𝘁𝗼 int, 𝘀𝗰𝗼𝗿𝗲 𝘁𝗼 float, 𝗮𝗱𝗱 𝟱 𝘁𝗼 𝘀𝗰𝗼𝗿𝗲, 𝗽𝘂𝘁 𝗶𝗻 𝗱𝗶𝗰𝘁, 𝗽𝗿𝗶𝗻𝘁 𝘂𝘀𝗶𝗻𝗴 𝗹𝗼𝗼𝗽.\n",
    "data = (\"Farah\", \"20\", \"88.5\")\n",
    "name = data[0]\n",
    "age = int(data[1])\n",
    "score = float(data[2]) + 5\n",
    "student_info = {\n",
    "    \"name\": name,\n",
    "    \"age\": age,\n",
    "    \"score\": score\n",
    "}\n",
    "for key, value in student_info.items():\n",
    "    print(f\"{key.capitalize()}: {value}\")"
   ]
  },
  {
   "cell_type": "code",
   "execution_count": 36,
   "id": "7f908bda",
   "metadata": {},
   "outputs": [
    {
     "name": "stdout",
     "output_type": "stream",
     "text": [
      "Number of names with more than 4 letters: 1\n"
     ]
    },
    {
     "data": {
      "text/plain": [
       "{'Ana': {'length': 3, 'label': 'short'},\n",
       " 'Sana': {'length': 4, 'label': 'short'},\n",
       " 'Salman': {'length': 6, 'label': 'medium'}}"
      ]
     },
     "execution_count": 36,
     "metadata": {},
     "output_type": "execute_result"
    }
   ],
   "source": [
    "# 𝗟𝗶𝘀𝘁 𝗼𝗳 𝗻𝗮𝗺𝗲𝘀 = [\"𝗔𝗻𝗮\", \"𝗦𝗮𝗻𝗮\", \"𝗦𝗮𝗹𝗺𝗮𝗻\"]. 𝗖𝗼𝘂𝗻𝘁 𝗻𝗮𝗺𝗲𝘀 > 𝟰 𝗹𝗲𝘁𝘁𝗲𝗿𝘀. 𝗖𝗿𝗲𝗮𝘁𝗲 𝗱𝗶𝗰𝘁: 𝗻𝗮𝗺𝗲 ➝ 𝗹𝗲𝗻𝗴𝘁𝗵, 𝗹𝗮𝗯𝗲𝗹 𝗮𝘀 \"𝘀𝗵𝗼𝗿𝘁\"/\"𝗺𝗲𝗱𝗶𝘂𝗺\"/\"𝗹𝗼𝗻𝗴\".\n",
    "\n",
    "Names = [\"Ana\", \"Sana\", \"Salman\"]\n",
    "count_long_names = sum(1 for name in Names if len(name) > 4)\n",
    "print(f\"Number of names with more than 4 letters: {count_long_names}\")\n",
    "name_length_labels = {}\n",
    "for name in Names:\n",
    "  length = len(name)\n",
    "  if length < 5:\n",
    "    label = \"short\"\n",
    "  elif 5 <= length <= 7:\n",
    "    label = \"medium\"\n",
    "  else:\n",
    "    label = \"long\"\n",
    "  name_length_labels[name] = {\"length\": length, \"label\": label}\n",
    "\n",
    "name_length_labels"
   ]
  },
  {
   "cell_type": "code",
   "execution_count": 37,
   "id": "01fc03a8",
   "metadata": {},
   "outputs": [
    {
     "name": "stdout",
     "output_type": "stream",
     "text": [
      "Invalid price entered. Please enter a number.\n",
      "\n",
      "Product List:\n",
      "**4322: $4322.00**\n"
     ]
    }
   ],
   "source": [
    "#𝗜𝗻𝗽𝘂𝘁 𝗽𝗿𝗼𝗱𝘂𝗰𝘁 𝗻𝗮𝗺𝗲𝘀 & 𝗽𝗿𝗶𝗰𝗲𝘀 (𝗮𝘀 𝘀𝘁𝗿𝗶𝗻𝗴𝘀). 𝗖𝗮𝘀𝘁 𝗽𝗿𝗶𝗰𝗲𝘀 𝘁𝗼 float, 𝗽𝘂𝘁 𝗶𝗻 𝗱𝗶𝗰𝘁, 𝗽𝗿𝗶𝗻𝘁 𝘄𝗶𝘁𝗵 if 𝗵𝗶𝗴𝗵𝗹𝗶𝗴𝗵𝘁𝗶𝗻𝗴 𝗶𝘁𝗲𝗺𝘀 > 𝟭𝟬𝟬.\n",
    "\n",
    "products = {}\n",
    "while True:\n",
    "  product_name = input(\"Enter product name (or 'done' to finish): \")\n",
    "  if product_name.lower() == 'done':\n",
    "    break\n",
    "  product_price_str = input(f\"Enter price for {product_name}: \")\n",
    "  try:\n",
    "    product_price = float(product_price_str)\n",
    "    products[product_name] = product_price\n",
    "  except ValueError:\n",
    "    print(\"Invalid price entered. Please enter a number.\")\n",
    "\n",
    "print(\"\\nProduct List:\")\n",
    "for name, price in products.items():\n",
    "  if price > 100:\n",
    "    print(f\"**{name}: ${price:.2f}**\")\n",
    "  else:\n",
    "    print(f\"{name}: ${price:.2f}\")"
   ]
  },
  {
   "cell_type": "code",
   "execution_count": 38,
   "id": "afb5a481",
   "metadata": {},
   "outputs": [
    {
     "name": "stdout",
     "output_type": "stream",
     "text": [
      "100.0\n",
      "Below 250\n",
      "200.0\n",
      "Below 250\n",
      "300.5\n",
      "Above 250\n",
      "400.0\n",
      "Above 250\n"
     ]
    }
   ],
   "source": [
    "#𝗠𝗶𝘅𝗲𝗱 𝗹𝗶𝘀𝘁 = [\"𝟭𝟬𝟬\", 𝟮𝟬𝟬, 𝟯𝟬𝟬.𝟱, \"𝟰𝟬𝟬\"]. 𝗖𝗼𝗻𝘃𝗲𝗿𝘁 𝘁𝗼 float, 𝗽𝗿𝗶𝗻𝘁 𝗮𝗻𝗱 𝗰𝗮𝘁𝗲𝗴𝗼𝗿𝗶𝘇𝗲 𝗮𝘀 \"𝗔𝗯𝗼𝘃𝗲 𝟮𝟱𝟬\"/\"𝗕𝗲𝗹𝗼𝘄 𝟮𝟱𝟬\"\n",
    "mixed_list = [\"100\", 200, 300.5, \"400\"]\n",
    "float_list = []\n",
    "for item in mixed_list:\n",
    "  float_item = float(item)\n",
    "  float_list.append(float_item)\n",
    "\n",
    "for item in float_list:\n",
    "  print(item)\n",
    "  if item > 250:\n",
    "    print(\"Above 250\")\n",
    "  else:\n",
    "    print(\"Below 250\")"
   ]
  },
  {
   "cell_type": "code",
   "execution_count": 39,
   "id": "e15e80ec",
   "metadata": {},
   "outputs": [
    {
     "name": "stdout",
     "output_type": "stream",
     "text": [
      "name: Ali\n",
      "age: 25\n",
      "is_student: True\n",
      "Is student: True\n"
     ]
    }
   ],
   "source": [
    "#𝗧𝘂𝗽𝗹𝗲 = (\"𝗔𝗹𝗶\", \"𝟮𝟱\", \"𝗧𝗿𝘂𝗲\"). 𝗖𝗼𝗻𝘃𝗲𝗿𝘁 𝗮𝗴𝗲 𝘁𝗼 int, 𝘀𝘁𝗿𝗶𝗻𝗴 𝗧𝗿𝘂𝗲 𝘁𝗼 bool, 𝘀𝘁𝗼𝗿𝗲 𝗶𝗻 𝗱𝗶𝗰𝘁, 𝗽𝗿𝗶𝗻𝘁 𝗸𝗲𝘆-𝘃𝗮𝗹𝘂𝗲𝘀 𝘄𝗶𝘁𝗵 𝘀𝘁𝘂𝗱𝗲𝗻𝘁 𝗰𝗵𝗲𝗰𝗸.\n",
    "\n",
    "person_tuple = (\"Ali\", \"25\", \"True\")\n",
    "\n",
    "person_dict = {\n",
    "    \"name\": person_tuple[0],\n",
    "    \"age\": int(person_tuple[1]),\n",
    "    \"is_student\": bool(person_tuple[2])\n",
    "}\n",
    "\n",
    "for key, value in person_dict.items():\n",
    "  print(f\"{key}: {value}\")\n",
    "  if key == \"is_student\":\n",
    "    print(f\"Is student: {value}\")"
   ]
  },
  {
   "cell_type": "code",
   "execution_count": 40,
   "id": "c0487fa9",
   "metadata": {},
   "outputs": [
    {
     "name": "stdout",
     "output_type": "stream",
     "text": [
      "English score: 85\n",
      "Total score: 175\n",
      "Average score: 87.5\n",
      "Grade: B\n"
     ]
    }
   ],
   "source": [
    "#𝗦𝘂𝗯𝗷𝗲𝗰𝘁𝘀 𝗱𝗶𝗰𝘁 = {\"𝗠𝗮𝘁𝗵\": \"𝟵𝟬\", \"𝗘𝗻𝗴𝗹𝗶𝘀𝗵\": \"𝟴𝟱\"}. 𝗖𝗼𝗻𝘃𝗲𝗿𝘁 𝘁𝗼 int, 𝗰𝗮𝗹𝗰𝘂𝗹𝗮𝘁𝗲 𝘁𝗼𝘁𝗮𝗹 & 𝗮𝘃𝗲𝗿𝗮𝗴𝗲, 𝗮𝘀𝘀𝗶𝗴𝗻 𝗴𝗿𝗮𝗱𝗲𝘀 𝘂𝘀𝗶𝗻𝗴 if-elif-else.\n",
    "Subjects_dict = {\"Math\": \"90\", \"English\": \"85\"}\n",
    "math_score = int(Subjects_dict[\"Math\"])\n",
    "english_score = int(Subjects_dict[\"English\"])\n",
    "total_score = math_score + english_score\n",
    "average_score = total_score / len(Subjects_dict)\n",
    "if average_score >= 90:\n",
    "  grade = \"A\"\n",
    "elif average_score >= 80:\n",
    "  grade = \"B\"\n",
    "elif average_score >= 70:\n",
    "  grade = \"C\"\n",
    "elif average_score >= 60:\n",
    "  grade = \"D\"\n",
    "else:\n",
    "  grade = \"F\"\n",
    "  print(f\"Math score: {math_score}\")\n",
    "print(f\"English score: {english_score}\")\n",
    "print(f\"Total score: {total_score}\")\n",
    "print(f\"Average score: {average_score}\")\n",
    "print(f\"Grade: {grade}\")"
   ]
  },
  {
   "cell_type": "code",
   "execution_count": 41,
   "id": "b7c6e395",
   "metadata": {},
   "outputs": [
    {
     "name": "stdout",
     "output_type": "stream",
     "text": [
      "\n",
      "Gadget Names: ['motor', 'fan', 'BIKE', 'scoter', 'cycle']\n",
      "Gadget Prices: [455.0, 7777.0, 654321.0, 789065.0, 4443355.0]\n",
      "Total Price: 5894973.0\n",
      "Expensive Gadgets: {'fan': 7777.0, 'BIKE': 654321.0, 'scoter': 789065.0, 'cycle': 4443355.0}\n"
     ]
    }
   ],
   "source": [
    "#𝗔𝘀𝗸 𝘂𝘀𝗲𝗿 𝗳𝗼𝗿 𝟱 𝗴𝗮𝗱𝗴𝗲𝘁 𝗻𝗮𝗺𝗲𝘀 (𝘀𝘁𝗿𝗶𝗻𝗴𝘀), 𝗰𝗼𝗻𝘃𝗲𝗿𝘁 𝟯𝗿𝗱 𝘁𝗼 uppercase(), 𝘀𝘁𝗼𝗿𝗲 𝗽𝗿𝗶𝗰𝗲𝘀 𝗶𝗻 𝗮𝗻𝗼𝘁𝗵𝗲𝗿 𝗹𝗶𝘀𝘁, 𝗰𝗮𝗹𝗰𝘂𝗹𝗮𝘁𝗲 𝘁𝗼𝘁𝗮𝗹 & 𝗳𝗹𝗮𝗴 𝗲𝘅𝗽𝗲𝗻𝘀𝗶𝘃𝗲 𝗶𝘁𝗲𝗺𝘀 𝗶𝗻 𝗱𝗶𝗰𝘁.\n",
    "gadget_names = []\n",
    "gadget_prices = []\n",
    "expensive_gadgets = {}\n",
    "total_price = 0\n",
    "\n",
    "for i in range(5):\n",
    "  name = input(f\"Enter gadget name {i+1}: \")\n",
    "  if i == 2:\n",
    "    name = name.upper()\n",
    "  gadget_names.append(name)\n",
    "\n",
    "  while True:\n",
    "    try:\n",
    "      price = float(input(f\"Enter price for {gadget_names[i]}: \"))\n",
    "      gadget_prices.append(price)\n",
    "      total_price += price\n",
    "      if price > 500:  # You can adjust the threshold for expensive\n",
    "        expensive_gadgets[name] = price\n",
    "      break\n",
    "    except ValueError:\n",
    "      print(\"Invalid input. Please enter a valid price.\")\n",
    "\n",
    "print(\"\\nGadget Names:\", gadget_names)\n",
    "print(\"Gadget Prices:\", gadget_prices)\n",
    "print(\"Total Price:\", total_price)\n",
    "print(\"Expensive Gadgets:\", expensive_gadgets)\n"
   ]
  }
 ],
 "metadata": {
  "kernelspec": {
   "display_name": "Python 3",
   "language": "python",
   "name": "python3"
  },
  "language_info": {
   "codemirror_mode": {
    "name": "ipython",
    "version": 3
   },
   "file_extension": ".py",
   "mimetype": "text/x-python",
   "name": "python",
   "nbconvert_exporter": "python",
   "pygments_lexer": "ipython3",
   "version": "3.13.5"
  }
 },
 "nbformat": 4,
 "nbformat_minor": 5
}
