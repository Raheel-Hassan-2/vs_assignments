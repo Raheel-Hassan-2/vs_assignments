{
 "cells": [
  {
   "cell_type": "code",
   "execution_count": null,
   "id": "eb2baa3c",
   "metadata": {
    "vscode": {
     "languageId": "plaintext"
    }
   },
   "outputs": [],
   "source": [
    "#Declare a variable student_id with value 101 (integer) and a variable grades with a list: [85, 90, 92].\n",
    "Print the value and type of both variables using the type() function.\n",
    "\n",
    "student_id = 101\n",
    "grades = [85, 90, 92]\n",
    "\n",
    "print(\"student_id:\", student_id)\n",
    "print(\"Type of student_id:\", type(student_id))\n",
    "\n",
    "print(\"grades:\", grades)\n",
    "print(\"Type of grades:\", type(grades))"
   ]
  }
 ],
 "metadata": {
  "language_info": {
   "name": "python"
  }
 },
 "nbformat": 4,
 "nbformat_minor": 5
}
