{
 "cells": [
  {
   "cell_type": "code",
   "execution_count": 1,
   "id": "5675a23f",
   "metadata": {},
   "outputs": [
    {
     "name": "stdout",
     "output_type": "stream",
     "text": [
      "1\n",
      "2\n",
      "3\n",
      "4\n",
      "5\n",
      "6\n",
      "7\n",
      "8\n",
      "9\n",
      "10\n",
      "11\n",
      "12\n",
      "13\n",
      "14\n",
      "15\n",
      "16\n",
      "17\n",
      "18\n",
      "19\n",
      "20\n"
     ]
    }
   ],
   "source": [
    "# 𝗣𝗿𝗶𝗻𝘁 𝗻𝘂𝗺𝗯𝗲𝗿𝘀 𝗳𝗿𝗼𝗺 𝟭 𝘁𝗼 𝟮𝟬 𝘂𝘀𝗶𝗻𝗴 𝗮 𝘄𝗵𝗶𝗹𝗲 𝗹𝗼𝗼𝗽۔\n",
    "\n",
    "i = 1\n",
    "while i <= 20:\n",
    "  print(i)\n",
    "  i += 1"
   ]
  },
  {
   "cell_type": "code",
   "execution_count": 2,
   "id": "2ca4b279",
   "metadata": {},
   "outputs": [
    {
     "name": "stdout",
     "output_type": "stream",
     "text": [
      "3\n",
      "6\n",
      "9\n",
      "12\n",
      "15\n",
      "18\n",
      "21\n",
      "24\n",
      "27\n",
      "30\n"
     ]
    }
   ],
   "source": [
    "#𝗣𝗿𝗶𝗻𝘁 𝗲𝘃𝗲𝗿𝘆 𝟯𝗿𝗱 𝗻𝘂𝗺𝗯𝗲𝗿 𝗳𝗿𝗼𝗺 𝟯 𝘁𝗼 𝟯𝟬۔\n",
    "i = 3\n",
    "while i <= 30:\n",
    "    print(i)\n",
    "    i += 3"
   ]
  },
  {
   "cell_type": "code",
   "execution_count": 4,
   "id": "ce48adef",
   "metadata": {},
   "outputs": [
    {
     "name": "stdout",
     "output_type": "stream",
     "text": [
      "Sum of even numbers from 2 to 20 is: 110\n"
     ]
    }
   ],
   "source": [
    "#𝗣𝗿𝗶𝗻𝘁 𝘁𝗵𝗲 𝘀𝘂𝗺 𝗼𝗳 𝗲𝘃𝗲𝗻 𝗻𝘂𝗺𝗯𝗲𝗿𝘀 𝗳𝗿𝗼𝗺 𝟮 𝘁𝗼 𝟮𝟬۔\n",
    "i = 2\n",
    "total = 0\n",
    "\n",
    "while i <= 20:\n",
    "    total += i\n",
    "    i += 2\n",
    "\n",
    "print(\"Sum of even numbers from 2 to 20 is:\", total)"
   ]
  },
  {
   "cell_type": "code",
   "execution_count": 5,
   "id": "4a22584c",
   "metadata": {},
   "outputs": [
    {
     "name": "stdout",
     "output_type": "stream",
     "text": [
      "Product of odd numbers from 1 to 9 is: 945\n"
     ]
    }
   ],
   "source": [
    "#𝗣𝗿𝗶𝗻𝘁 𝘁𝗵𝗲 𝗽𝗿𝗼𝗱𝘂𝗰𝘁 𝗼𝗳 𝗼𝗱𝗱 𝗻𝘂𝗺𝗯𝗲𝗿𝘀 𝗳𝗿𝗼𝗺 𝟭 𝘁𝗼 𝟵۔\n",
    "i = 1\n",
    "product = 1\n",
    "\n",
    "while i <= 9:\n",
    "    product *= i\n",
    "    i += 2\n",
    "\n",
    "print(\"Product of odd numbers from 1 to 9 is:\", product)\n",
    "\n"
   ]
  },
  {
   "cell_type": "code",
   "execution_count": 12,
   "id": "37e4a666",
   "metadata": {},
   "outputs": [
    {
     "name": "stdout",
     "output_type": "stream",
     "text": [
      "raheel\n",
      "usama\n",
      "ali\n",
      "ahmed\n",
      "hadi\n"
     ]
    }
   ],
   "source": [
    "#𝗖𝗿𝗲𝗮𝘁𝗲 𝗮 𝗹𝗶𝘀𝘁 𝗼𝗳 𝟱 𝗻𝗮𝗺𝗲𝘀 𝗮𝗻𝗱 𝗽𝗿𝗶𝗻𝘁 𝗲𝗮𝗰𝗵 𝗻𝗮𝗺𝗲 𝗼𝗻 𝗮 𝗻𝗲𝘄 𝗹𝗶𝗻𝗲۔\n",
    "names=[\"raheel\",\"usama\" ,\"ali\",\"ahmed\",\"hadi\"]\n",
    "for name in names:\n",
    "    print(name)"
   ]
  },
  {
   "cell_type": "code",
   "execution_count": 13,
   "id": "bfaf86bf",
   "metadata": {},
   "outputs": [
    {
     "name": "stdout",
     "output_type": "stream",
     "text": [
      "number of 'a' in banana is: 3\n"
     ]
    }
   ],
   "source": [
    "#𝗖𝗼𝘂𝗻𝘁 𝗵𝗼𝘄 𝗺𝗮𝗻𝘆 𝗹𝗲𝘁𝘁𝗲𝗿𝘀 '𝗮' 𝗮𝗿𝗲 𝗶𝗻 𝘁𝗵𝗲 𝘄𝗼𝗿𝗱 \"𝗯𝗮𝗻𝗮𝗻𝗮\"۔\n",
    "word = \"banana\"\n",
    "count=word.count('a')\n",
    "print(\"number of 'a' in banana is:\", count)"
   ]
  },
  {
   "cell_type": "code",
   "execution_count": 1,
   "id": "e8d7e48a",
   "metadata": {},
   "outputs": [
    {
     "name": "stdout",
     "output_type": "stream",
     "text": [
      "[10, -5, 4, -66, 0, 65, -35, 25, -12]\n",
      "[10, -5, 4, -66, 0, 65, -35, 25, -12]\n",
      "[10, -5, 4, -66, 0, 65, -35, 25, -12]\n",
      "[10, -5, 4, -66, 0, 65, -35, 25, -12]\n"
     ]
    }
   ],
   "source": [
    "#𝗣𝗿𝗶𝗻𝘁 𝗼𝗻𝗹𝘆 𝘁𝗵𝗲 𝗻𝗲𝗴𝗮𝘁𝗶𝘃𝗲 𝗻𝘂𝗺𝗯𝗲𝗿𝘀 𝗳𝗿𝗼𝗺 𝗮 𝗴𝗶𝘃𝗲𝗻 𝗹𝗶𝘀𝘁۔\n",
    "\n",
    "numbers = [10, -5, 4, -66, 0, 65, -35, 25, -12]\n",
    "for number in numbers:\n",
    "    if number < 0:\n",
    "        print(numbers)"
   ]
  },
  {
   "cell_type": "code",
   "execution_count": 2,
   "id": "f9a4afc6",
   "metadata": {},
   "outputs": [
    {
     "name": "stdout",
     "output_type": "stream",
     "text": [
      "5\n",
      "15\n",
      "25\n",
      "35\n",
      "45\n"
     ]
    }
   ],
   "source": [
    "#𝗣𝗿𝗶𝗻𝘁 𝗼𝗻𝗹𝘆 𝘁𝗵𝗲 𝗻𝘂𝗺𝗯𝗲𝗿𝘀 𝗲𝗻𝗱𝗶𝗻𝗴 𝗶𝗻 𝟱 𝗳𝗿𝗼𝗺 𝟭 𝘁𝗼 𝟱𝟬۔\n",
    "\n",
    "for i in range(1, 51):\n",
    "    if i % 10 == 5:\n",
    "        print(i)"
   ]
  },
  {
   "cell_type": "code",
   "execution_count": 4,
   "id": "ba7e65bd",
   "metadata": {},
   "outputs": [
    {
     "name": "stdout",
     "output_type": "stream",
     "text": [
      "the length of cat is 3 chracter\n",
      "the length of elephant is 8 chracter\n",
      "the length of bat is 3 chracter\n"
     ]
    }
   ],
   "source": [
    "#𝗣𝗿𝗶𝗻𝘁 𝘁𝗵𝗲 𝗹𝗲𝗻𝗴𝘁𝗵 𝗼𝗳 𝗲𝗮𝗰𝗵 𝘄𝗼𝗿𝗱 𝗶𝗻 𝘁𝗵𝗲 𝗹𝗶𝘀𝘁 [\"cat\", \"elephant\", \"bat\"]۔\n",
    "words = [\"cat\", \"elephant\", \"bat\"]\n",
    "for word in words:\n",
    "    print(f\"the length of {word} is {len(word)} chracter\")"
   ]
  },
  {
   "cell_type": "code",
   "execution_count": 8,
   "id": "878c6a58",
   "metadata": {},
   "outputs": [
    {
     "name": "stdout",
     "output_type": "stream",
     "text": [
      "the average of the numbers is: 8.333333333333334\n"
     ]
    }
   ],
   "source": [
    "#𝗧𝗮𝗸𝗲 𝟯 𝗻𝘂𝗺𝗯𝗲𝗿𝘀 𝗮𝘀 𝗶𝗻𝗽𝘂𝘁 𝗳𝗿𝗼𝗺 𝘁𝗵𝗲 𝘂𝘀𝗲𝗿 𝗮𝗻𝗱 𝗽𝗿𝗶𝗻𝘁 𝘁𝗵𝗲𝗶𝗿 𝗮𝘃𝗲𝗿𝗮𝗴𝗲۔\n",
    "\n",
    "num1 = 8\n",
    "num2 =5\n",
    "num3 = 12\n",
    "average = (num1 + num2 + num3) / 3\n",
    "print(\"the average of the numbers is:\" , average)"
   ]
  },
  {
   "cell_type": "code",
   "execution_count": 9,
   "id": "5aadc287",
   "metadata": {},
   "outputs": [
    {
     "name": "stdout",
     "output_type": "stream",
     "text": [
      "5 x 10 = 50\n",
      "5 x 9 = 45\n",
      "5 x 8 = 40\n",
      "5 x 7 = 35\n",
      "5 x 6 = 30\n",
      "5 x 5 = 25\n",
      "5 x 4 = 20\n",
      "5 x 3 = 15\n",
      "5 x 2 = 10\n",
      "5 x 1 = 5\n"
     ]
    }
   ],
   "source": [
    "#𝗣𝗿𝗶𝗻𝘁 𝘁𝗵𝗲 𝘁𝗮𝗯𝗹𝗲 𝗼𝗳 𝟱 𝗶𝗻 𝗿𝗲𝘃𝗲𝗿𝘀𝗲 (𝗳𝗿𝗼𝗺 𝟱×𝟭𝟬 𝘁𝗼 𝟱×𝟭)۔\n",
    "for i in range(10, 0, -1):\n",
    "    print(f\"5 x {i} = {5 * i}\")"
   ]
  },
  {
   "cell_type": "code",
   "execution_count": 13,
   "id": "6446b0ea",
   "metadata": {},
   "outputs": [
    {
     "name": "stdout",
     "output_type": "stream",
     "text": [
      "p\n",
      "y\n",
      "t\n",
      "h\n",
      "o\n",
      "n\n",
      " \n",
      "i\n",
      "s\n",
      " \n",
      "f\n",
      "u\n",
      "n\n"
     ]
    }
   ],
   "source": [
    "#𝗨𝘀𝗲 𝗮 𝗳𝗼𝗿 𝗹𝗼𝗼𝗽 𝘁𝗼 𝗽𝗿𝗶𝗻𝘁 𝗮𝗹𝗹 𝗰𝗵𝗮𝗿𝗮𝗰𝘁𝗲𝗿𝘀 𝗶𝗻 \"𝗣𝘆𝘁𝗵𝗼𝗻 𝗜𝘀 𝗙𝘂𝗻\"\n",
    "for char in \"python is fun\":\n",
    " print(char)"
   ]
  },
  {
   "cell_type": "code",
   "execution_count": 14,
   "id": "fd74bc06",
   "metadata": {},
   "outputs": [
    {
     "name": "stdout",
     "output_type": "stream",
     "text": [
      "2\n",
      "4\n",
      "6\n",
      "8\n",
      "10\n"
     ]
    }
   ],
   "source": [
    "#𝗖𝗿𝗲𝗮𝘁𝗲 𝗮 𝗹𝗶𝘀𝘁 𝗼𝗳 𝗻𝘂𝗺𝗯𝗲𝗿𝘀 𝗮𝗻𝗱 𝗽𝗿𝗶𝗻𝘁 𝗲𝘃𝗲𝗿𝘆 𝘀𝗲𝗰𝗼𝗻𝗱 𝗶𝘁𝗲𝗺۔\n",
    "\n",
    "numbers = [1, 2, 3, 4, 5, 6, 7, 8, 9, 10]\n",
    "for i in range(1, len(numbers), 2):\n",
    "    print(numbers[i])"
   ]
  },
  {
   "cell_type": "code",
   "execution_count": 17,
   "id": "a34c1bff",
   "metadata": {},
   "outputs": [
    {
     "name": "stdout",
     "output_type": "stream",
     "text": [
      "Number of consonants: 7\n"
     ]
    }
   ],
   "source": [
    "#𝗧𝗮𝗸𝗲 𝗮 𝘄𝗼𝗿𝗱 𝗳𝗿𝗼𝗺 𝘁𝗵𝗲 𝘂𝘀𝗲𝗿 𝗮𝗻𝗱 𝗰𝗼𝘂𝗻𝘁 𝗵𝗼𝘄 𝗺𝗮𝗻𝘆 𝗰𝗼𝗻𝘀𝗼𝗻𝗮𝗻𝘁𝘀 𝗶𝘁 𝗵𝗮𝘀۔\n",
    "word = input(\"Enter a word: \")\n",
    "vowels = \"aeiouAEIOU\"\n",
    "consonant_count = 0\n",
    "\n",
    "for char in word:\n",
    "    if char.isalpha() and char not in vowels:\n",
    "        consonant_count += 1\n",
    "\n",
    "print(\"Number of consonants:\", consonant_count)"
   ]
  },
  {
   "cell_type": "code",
   "execution_count": 19,
   "id": "4a0b21e4",
   "metadata": {},
   "outputs": [
    {
     "name": "stdout",
     "output_type": "stream",
     "text": [
      "1\n",
      "8\n",
      "27\n",
      "64\n",
      "125\n"
     ]
    }
   ],
   "source": [
    "#𝗣𝗿𝗶𝗻𝘁 𝘁𝗵𝗲 𝗰𝘂𝗯𝗲𝘀 𝗼𝗳 𝗻𝘂𝗺𝗯𝗲𝗿𝘀 𝗳𝗿𝗼𝗺 𝟭 𝘁𝗼 𝟱۔\n",
    "for i in range(1, 6):\n",
    "    print(i**3)"
   ]
  },
  {
   "cell_type": "code",
   "execution_count": 22,
   "id": "b825cbe9",
   "metadata": {},
   "outputs": [
    {
     "name": "stdout",
     "output_type": "stream",
     "text": [
      "apple\n",
      "avocado\n",
      "apricot\n"
     ]
    }
   ],
   "source": [
    "# 𝗧𝗮𝗸𝗲 𝗮 𝗹𝗶𝘀𝘁 𝗼𝗳 𝘄𝗼𝗿𝗱𝘀 𝗮𝗻𝗱 𝗽𝗿𝗶𝗻𝘁 𝘁𝗵𝗼𝘀𝗲 𝘁𝗵𝗮𝘁 𝘀𝘁𝗮𝗿𝘁 𝘄𝗶𝘁𝗵 '𝗮'۔\n",
    "\n",
    "words = [\"apple\", \"banana\", \"avocado\", \"grapes\", \"apricot\"]\n",
    "for word in words:\n",
    "    if word.lower().startswith('a'):\n",
    "        print(word)"
   ]
  },
  {
   "cell_type": "code",
   "execution_count": 23,
   "id": "b626dd57",
   "metadata": {},
   "outputs": [
    {
     "name": "stdout",
     "output_type": "stream",
     "text": [
      "101\n",
      "102\n",
      "103\n",
      "104\n",
      "106\n",
      "107\n",
      "108\n",
      "109\n",
      "110\n"
     ]
    }
   ],
   "source": [
    "#𝗨𝘀𝗲 𝗮 𝗹𝗼𝗼𝗽 𝘁𝗼 𝗽𝗿𝗶𝗻𝘁 𝗻𝘂𝗺𝗯𝗲𝗿𝘀 𝗯𝗲𝘁𝘄𝗲𝗲𝗻 𝟭𝟬𝟬 𝗮𝗻𝗱 𝟭𝟭𝟬 (𝗲𝘅𝗰𝗹𝘂𝗱𝗶𝗻𝗴 𝟭𝟬𝟱)۔\n",
    "for i in range(101, 111):\n",
    "    if i != 105:\n",
    "        print(i)"
   ]
  },
  {
   "cell_type": "code",
   "execution_count": 24,
   "id": "fa41c683",
   "metadata": {},
   "outputs": [
    {
     "name": "stdout",
     "output_type": "stream",
     "text": [
      "4 x 1 = 4\n",
      "4 x 2 = 8\n",
      "4 x 3 = 12\n",
      "4 x 4 = 16\n",
      "4 x 5 = 20\n"
     ]
    }
   ],
   "source": [
    "#𝗣𝗿𝗶𝗻𝘁 𝘁𝗵𝗲 𝗳𝗶𝗿𝘀𝘁 𝟱 𝗽𝗼𝘀𝗶𝘁𝗶𝘃𝗲 𝗺𝘂𝗹𝘁𝗶𝗽𝗹𝗲𝘀 𝗼𝗳 𝟰۔\n",
    "\n",
    "for i in range(1, 6):\n",
    "    print(f\"4 x {i } = {4 * i}\")\n",
    "\n"
   ]
  },
  {
   "cell_type": "code",
   "execution_count": 25,
   "id": "bb35fe5d",
   "metadata": {},
   "outputs": [
    {
     "name": "stdout",
     "output_type": "stream",
     "text": [
      "coding\n",
      "is\n",
      "easy\n"
     ]
    }
   ],
   "source": [
    "# 𝗣𝗿𝗶𝗻𝘁 𝗲𝗮𝗰𝗵 𝘄𝗼𝗿𝗱 𝗶𝗻 𝘁𝗵𝗲 𝘀𝗲𝗻𝘁𝗲𝗻𝗰𝗲 \"𝗖𝗼𝗱𝗶𝗻𝗴 𝗶𝘀 𝗲𝗮𝘀𝘆\" 𝗼𝗻 𝗮 𝗻𝗲𝘄 𝗹𝗶𝗻𝗲۔\n",
    "sentence = \"coding is easy\"\n",
    "for word in sentence. split():\n",
    "    print(word)"
   ]
  },
  {
   "cell_type": "code",
   "execution_count": 26,
   "id": "57166c1d",
   "metadata": {},
   "outputs": [
    {
     "name": "stdout",
     "output_type": "stream",
     "text": [
      "2\n",
      "4\n",
      "6\n",
      "8\n",
      "10\n"
     ]
    }
   ],
   "source": [
    "#**𝗖𝗿𝗲𝗮𝘁𝗲 𝗮 𝗻𝘂𝗺𝗯𝗲𝗿 𝗹𝗶𝘀𝘁 𝗮𝗻𝗱 𝗽𝗿𝗶𝗻𝘁 𝗼𝗻𝗹𝘆 𝗲𝘃𝗲𝗻 𝗻𝘂𝗺𝗯𝗲𝗿𝘀 𝘂𝘀𝗶𝗻𝗴 𝗰𝗼𝗻𝗱𝗶𝘁𝗶𝗼𝗻𝘀 𝗶𝗻 𝗹𝗼𝗼𝗽\n",
    "numbers = [1, 2, 3, 4, 5, 6, 7, 8, 9, 10]\n",
    "for number in numbers:\n",
    "    if number % 2 == 0:\n",
    "        print(number)"
   ]
  }
 ],
 "metadata": {
  "kernelspec": {
   "display_name": "Python 3",
   "language": "python",
   "name": "python3"
  },
  "language_info": {
   "codemirror_mode": {
    "name": "ipython",
    "version": 3
   },
   "file_extension": ".py",
   "mimetype": "text/x-python",
   "name": "python",
   "nbconvert_exporter": "python",
   "pygments_lexer": "ipython3",
   "version": "3.13.5"
  }
 },
 "nbformat": 4,
 "nbformat_minor": 5
}
